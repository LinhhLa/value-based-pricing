{
 "cells": [
  {
   "cell_type": "code",
   "execution_count": 37,
   "metadata": {},
   "outputs": [],
   "source": [
    "import pandas as pd\n",
    "import numpy as np\n",
    "from sklearn.linear_model import LinearRegression\n",
    "from sklearn.model_selection import train_test_split\n",
    "from sklearn.metrics import mean_absolute_error, mean_squared_error, r2_score\n",
    "import matplotlib.pyplot as plt\n",
    "import seaborn as sns  #data visualization library"
   ]
  },
  {
   "cell_type": "code",
   "execution_count": 2,
   "metadata": {},
   "outputs": [],
   "source": [
    "df = pd.read_excel(\"data.xlsx\")"
   ]
  },
  {
   "cell_type": "code",
   "execution_count": 3,
   "metadata": {},
   "outputs": [],
   "source": [
    "df_copy = df.copy()"
   ]
  },
  {
   "cell_type": "code",
   "execution_count": 4,
   "metadata": {},
   "outputs": [
    {
     "data": {
      "text/html": [
       "<div>\n",
       "<style scoped>\n",
       "    .dataframe tbody tr th:only-of-type {\n",
       "        vertical-align: middle;\n",
       "    }\n",
       "\n",
       "    .dataframe tbody tr th {\n",
       "        vertical-align: top;\n",
       "    }\n",
       "\n",
       "    .dataframe thead th {\n",
       "        text-align: right;\n",
       "    }\n",
       "</style>\n",
       "<table border=\"1\" class=\"dataframe\">\n",
       "  <thead>\n",
       "    <tr style=\"text-align: right;\">\n",
       "      <th></th>\n",
       "      <th>id</th>\n",
       "      <th>category</th>\n",
       "      <th>title</th>\n",
       "      <th>body</th>\n",
       "      <th>amenities</th>\n",
       "      <th>bathrooms</th>\n",
       "      <th>bedrooms</th>\n",
       "      <th>currency</th>\n",
       "      <th>fee</th>\n",
       "      <th>has_photo</th>\n",
       "      <th>...</th>\n",
       "      <th>price_display</th>\n",
       "      <th>price_type</th>\n",
       "      <th>square_feet</th>\n",
       "      <th>address</th>\n",
       "      <th>cityname</th>\n",
       "      <th>state</th>\n",
       "      <th>latitude</th>\n",
       "      <th>longitude</th>\n",
       "      <th>source</th>\n",
       "      <th>time</th>\n",
       "    </tr>\n",
       "  </thead>\n",
       "  <tbody>\n",
       "    <tr>\n",
       "      <th>0</th>\n",
       "      <td>5668640009</td>\n",
       "      <td>housing/rent/apartment</td>\n",
       "      <td>One BR 507 &amp; 509 Esplanade</td>\n",
       "      <td>This unit is located at 507 &amp; 509 Esplanade, R...</td>\n",
       "      <td>NaN</td>\n",
       "      <td>1</td>\n",
       "      <td>1</td>\n",
       "      <td>USD</td>\n",
       "      <td>No</td>\n",
       "      <td>Thumbnail</td>\n",
       "      <td>...</td>\n",
       "      <td>2195</td>\n",
       "      <td>Monthly</td>\n",
       "      <td>542</td>\n",
       "      <td>507  509 Esplanade</td>\n",
       "      <td>Redondo Beach</td>\n",
       "      <td>CA</td>\n",
       "      <td>33.8520</td>\n",
       "      <td>-118.3759</td>\n",
       "      <td>RentLingo</td>\n",
       "      <td>1.577360e+09</td>\n",
       "    </tr>\n",
       "    <tr>\n",
       "      <th>1</th>\n",
       "      <td>5668639818</td>\n",
       "      <td>housing/rent/apartment</td>\n",
       "      <td>Three BR 146 Lochview Drive</td>\n",
       "      <td>This unit is located at 146 Lochview Drive, Ne...</td>\n",
       "      <td>NaN</td>\n",
       "      <td>1.5</td>\n",
       "      <td>3</td>\n",
       "      <td>USD</td>\n",
       "      <td>No</td>\n",
       "      <td>Thumbnail</td>\n",
       "      <td>...</td>\n",
       "      <td>1250</td>\n",
       "      <td>Monthly</td>\n",
       "      <td>1500</td>\n",
       "      <td>146 Lochview Dr</td>\n",
       "      <td>Newport News</td>\n",
       "      <td>VA</td>\n",
       "      <td>37.0867</td>\n",
       "      <td>-76.4941</td>\n",
       "      <td>RentLingo</td>\n",
       "      <td>1.577360e+09</td>\n",
       "    </tr>\n",
       "    <tr>\n",
       "      <th>2</th>\n",
       "      <td>5668639686</td>\n",
       "      <td>housing/rent/apartment</td>\n",
       "      <td>Three BR 3101 Morningside Drive</td>\n",
       "      <td>This unit is located at 3101 Morningside Drive...</td>\n",
       "      <td>NaN</td>\n",
       "      <td>2</td>\n",
       "      <td>3</td>\n",
       "      <td>USD</td>\n",
       "      <td>No</td>\n",
       "      <td>Thumbnail</td>\n",
       "      <td>...</td>\n",
       "      <td>1395</td>\n",
       "      <td>Monthly</td>\n",
       "      <td>1650</td>\n",
       "      <td>3101 Morningside Dr</td>\n",
       "      <td>Raleigh</td>\n",
       "      <td>NC</td>\n",
       "      <td>35.8230</td>\n",
       "      <td>-78.6438</td>\n",
       "      <td>RentLingo</td>\n",
       "      <td>1.577360e+09</td>\n",
       "    </tr>\n",
       "    <tr>\n",
       "      <th>3</th>\n",
       "      <td>5668639659</td>\n",
       "      <td>housing/rent/apartment</td>\n",
       "      <td>Two BR 209 Aegean Way</td>\n",
       "      <td>This unit is located at 209 Aegean Way, Vacavi...</td>\n",
       "      <td>NaN</td>\n",
       "      <td>1</td>\n",
       "      <td>2</td>\n",
       "      <td>USD</td>\n",
       "      <td>No</td>\n",
       "      <td>Thumbnail</td>\n",
       "      <td>...</td>\n",
       "      <td>1600</td>\n",
       "      <td>Monthly</td>\n",
       "      <td>820</td>\n",
       "      <td>209 Aegean Way</td>\n",
       "      <td>Vacaville</td>\n",
       "      <td>CA</td>\n",
       "      <td>38.3622</td>\n",
       "      <td>-121.9712</td>\n",
       "      <td>RentLingo</td>\n",
       "      <td>1.577360e+09</td>\n",
       "    </tr>\n",
       "    <tr>\n",
       "      <th>4</th>\n",
       "      <td>5668639374</td>\n",
       "      <td>housing/rent/apartment</td>\n",
       "      <td>One BR 4805 Marquette NE</td>\n",
       "      <td>This unit is located at 4805 Marquette NE, Alb...</td>\n",
       "      <td>NaN</td>\n",
       "      <td>1</td>\n",
       "      <td>1</td>\n",
       "      <td>USD</td>\n",
       "      <td>No</td>\n",
       "      <td>Thumbnail</td>\n",
       "      <td>...</td>\n",
       "      <td>975</td>\n",
       "      <td>Monthly</td>\n",
       "      <td>624</td>\n",
       "      <td>4805 Marquette NE</td>\n",
       "      <td>Albuquerque</td>\n",
       "      <td>NM</td>\n",
       "      <td>35.1038</td>\n",
       "      <td>-106.6110</td>\n",
       "      <td>RentLingo</td>\n",
       "      <td>1.577360e+09</td>\n",
       "    </tr>\n",
       "  </tbody>\n",
       "</table>\n",
       "<p>5 rows × 22 columns</p>\n",
       "</div>"
      ],
      "text/plain": [
       "           id                category                            title  \\\n",
       "0  5668640009  housing/rent/apartment       One BR 507 & 509 Esplanade   \n",
       "1  5668639818  housing/rent/apartment      Three BR 146 Lochview Drive   \n",
       "2  5668639686  housing/rent/apartment  Three BR 3101 Morningside Drive   \n",
       "3  5668639659  housing/rent/apartment            Two BR 209 Aegean Way   \n",
       "4  5668639374  housing/rent/apartment         One BR 4805 Marquette NE   \n",
       "\n",
       "                                                body amenities bathrooms  \\\n",
       "0  This unit is located at 507 & 509 Esplanade, R...       NaN         1   \n",
       "1  This unit is located at 146 Lochview Drive, Ne...       NaN       1.5   \n",
       "2  This unit is located at 3101 Morningside Drive...       NaN         2   \n",
       "3  This unit is located at 209 Aegean Way, Vacavi...       NaN         1   \n",
       "4  This unit is located at 4805 Marquette NE, Alb...       NaN         1   \n",
       "\n",
       "  bedrooms currency fee  has_photo  ... price_display  price_type square_feet  \\\n",
       "0        1      USD  No  Thumbnail  ...          2195     Monthly         542   \n",
       "1        3      USD  No  Thumbnail  ...          1250     Monthly        1500   \n",
       "2        3      USD  No  Thumbnail  ...          1395     Monthly        1650   \n",
       "3        2      USD  No  Thumbnail  ...          1600     Monthly         820   \n",
       "4        1      USD  No  Thumbnail  ...           975     Monthly         624   \n",
       "\n",
       "               address       cityname state latitude longitude     source  \\\n",
       "0   507  509 Esplanade  Redondo Beach    CA  33.8520 -118.3759  RentLingo   \n",
       "1      146 Lochview Dr   Newport News    VA  37.0867  -76.4941  RentLingo   \n",
       "2  3101 Morningside Dr        Raleigh    NC  35.8230  -78.6438  RentLingo   \n",
       "3       209 Aegean Way      Vacaville    CA  38.3622 -121.9712  RentLingo   \n",
       "4    4805 Marquette NE    Albuquerque    NM  35.1038 -106.6110  RentLingo   \n",
       "\n",
       "           time  \n",
       "0  1.577360e+09  \n",
       "1  1.577360e+09  \n",
       "2  1.577360e+09  \n",
       "3  1.577360e+09  \n",
       "4  1.577360e+09  \n",
       "\n",
       "[5 rows x 22 columns]"
      ]
     },
     "execution_count": 4,
     "metadata": {},
     "output_type": "execute_result"
    }
   ],
   "source": [
    "df.head()"
   ]
  },
  {
   "cell_type": "code",
   "execution_count": 5,
   "metadata": {},
   "outputs": [
    {
     "name": "stdout",
     "output_type": "stream",
     "text": [
      "<class 'pandas.core.frame.DataFrame'>\n",
      "RangeIndex: 99826 entries, 0 to 99825\n",
      "Data columns (total 22 columns):\n",
      " #   Column         Non-Null Count  Dtype  \n",
      "---  ------         --------------  -----  \n",
      " 0   id             99826 non-null  object \n",
      " 1   category       99826 non-null  object \n",
      " 2   title          99826 non-null  object \n",
      " 3   body           99812 non-null  object \n",
      " 4   amenities      83749 non-null  object \n",
      " 5   bathrooms      99760 non-null  object \n",
      " 6   bedrooms       99699 non-null  object \n",
      " 7   currency       99822 non-null  object \n",
      " 8   fee            99823 non-null  object \n",
      " 9   has_photo      99823 non-null  object \n",
      " 10  pets_allowed   39192 non-null  object \n",
      " 11  price          99821 non-null  float64\n",
      " 12  price_display  99820 non-null  object \n",
      " 13  price_type     99823 non-null  object \n",
      " 14  square_feet    99823 non-null  object \n",
      " 15  address        7946 non-null   object \n",
      " 16  cityname       99521 non-null  object \n",
      " 17  state          99521 non-null  object \n",
      " 18  latitude       99797 non-null  float64\n",
      " 19  longitude      99795 non-null  float64\n",
      " 20  source         99820 non-null  object \n",
      " 21  time           99820 non-null  float64\n",
      "dtypes: float64(4), object(18)\n",
      "memory usage: 16.8+ MB\n"
     ]
    }
   ],
   "source": [
    "df.info()"
   ]
  },
  {
   "cell_type": "code",
   "execution_count": 6,
   "metadata": {},
   "outputs": [],
   "source": [
    "df = df.drop(columns=[\"id\",\"category\",\"title\",\"body\",\"time\",\"address\",\"currency\",\"price_display\"])"
   ]
  },
  {
   "cell_type": "code",
   "execution_count": 7,
   "metadata": {},
   "outputs": [],
   "source": [
    "df['amenities'] =  df['amenities'].fillna(\"No amenities\")\n",
    "test = set()\n",
    "for value in df['amenities'].unique():\n",
    "    temp = value.split(\",\")\n",
    "    for var in temp:\n",
    "        test.add(var)\n",
    "\n",
    "for column in test:\n",
    "    df[column] = df['amenities'].apply(lambda x: 1 if column in x else 0)\n",
    "\n",
    "df = df.drop(columns=['No','No amenities','USD','amenities'])\n"
   ]
  },
  {
   "cell_type": "code",
   "execution_count": 8,
   "metadata": {},
   "outputs": [
    {
     "data": {
      "text/plain": [
       "0"
      ]
     },
     "execution_count": 8,
     "metadata": {},
     "output_type": "execute_result"
    }
   ],
   "source": [
    "df['pets_allowed'] = df['pets_allowed'].fillna(\"No\")\n",
    "df['pets_allowed'].isna().sum()"
   ]
  },
  {
   "cell_type": "code",
   "execution_count": 9,
   "metadata": {},
   "outputs": [],
   "source": [
    "df = df.dropna()"
   ]
  },
  {
   "cell_type": "code",
   "execution_count": 10,
   "metadata": {},
   "outputs": [],
   "source": [
    "df = df[df['bathrooms']!=\"Thumbnail\"]\n",
    "df = df[df['bedrooms']!=\"Thumbnail\"]\n",
    "df = df[df['fee'].isin([\"Yes\", \"No\"])]\n",
    "df['has_photo'] = df['has_photo'].replace({\"Thumbnail\":\"No\"})\n",
    "df['pets_allowed'] = df['pets_allowed'].apply(lambda x: 1 if \"Cats\" in x or \"Dogs\" in x else 0)"
   ]
  },
  {
   "cell_type": "code",
   "execution_count": 12,
   "metadata": {},
   "outputs": [
    {
     "name": "stdout",
     "output_type": "stream",
     "text": [
      "<class 'pandas.core.frame.DataFrame'>\n",
      "Index: 99335 entries, 0 to 99825\n",
      "Data columns (total 40 columns):\n",
      " #   Column              Non-Null Count  Dtype  \n",
      "---  ------              --------------  -----  \n",
      " 0   bathrooms           99335 non-null  object \n",
      " 1   bedrooms            99335 non-null  object \n",
      " 2   fee                 99335 non-null  object \n",
      " 3   has_photo           99335 non-null  object \n",
      " 4   pets_allowed        99335 non-null  int64  \n",
      " 5   price               99335 non-null  float64\n",
      " 6   price_type          99335 non-null  object \n",
      " 7   square_feet         99335 non-null  object \n",
      " 8   cityname            99335 non-null  object \n",
      " 9   state               99335 non-null  object \n",
      " 10  latitude            99335 non-null  float64\n",
      " 11  longitude           99335 non-null  float64\n",
      " 12  source              99335 non-null  object \n",
      " 13  Basketball          99335 non-null  int64  \n",
      " 14  Gated               99335 non-null  int64  \n",
      " 15  View                99335 non-null  int64  \n",
      " 16  Dishwasher          99335 non-null  int64  \n",
      " 17  Cable or Satellite  99335 non-null  int64  \n",
      " 18  Playground          99335 non-null  int64  \n",
      " 19  Pool                99335 non-null  int64  \n",
      " 20  Tennis              99335 non-null  int64  \n",
      " 21  Patio/Deck          99335 non-null  int64  \n",
      " 22  Fireplace           99335 non-null  int64  \n",
      " 23  Internet Access     99335 non-null  int64  \n",
      " 24  Doorman             99335 non-null  int64  \n",
      " 25  TV                  99335 non-null  int64  \n",
      " 26  Garbage Disposal    99335 non-null  int64  \n",
      " 27  Parking             99335 non-null  int64  \n",
      " 28  Golf                99335 non-null  int64  \n",
      " 29  Wood Floors         99335 non-null  int64  \n",
      " 30  Gym                 99335 non-null  int64  \n",
      " 31  Refrigerator        99335 non-null  int64  \n",
      " 32  Alarm               99335 non-null  int64  \n",
      " 33  Washer Dryer        99335 non-null  int64  \n",
      " 34  Luxury              99335 non-null  int64  \n",
      " 35  AC                  99335 non-null  int64  \n",
      " 36  Hot Tub             99335 non-null  int64  \n",
      " 37  Elevator            99335 non-null  int64  \n",
      " 38  Storage             99335 non-null  int64  \n",
      " 39  Clubhouse           99335 non-null  int64  \n",
      "dtypes: float64(3), int64(28), object(9)\n",
      "memory usage: 31.1+ MB\n"
     ]
    }
   ],
   "source": [
    "df.info()"
   ]
  },
  {
   "cell_type": "code",
   "execution_count": 13,
   "metadata": {},
   "outputs": [],
   "source": [
    "for column in df.columns:\n",
    "    if column in ['price','latitude','longitude','bathrooms','bedrooms','square_feet']:\n",
    "        df[column] = df[column].astype('float')\n",
    "    else:\n",
    "        df[column] = df[column].astype('object')"
   ]
  },
  {
   "cell_type": "code",
   "execution_count": null,
   "metadata": {},
   "outputs": [],
   "source": [
    "Regression_library = {}"
   ]
  },
  {
   "cell_type": "code",
   "execution_count": 21,
   "metadata": {},
   "outputs": [
    {
     "data": {
      "text/plain": [
       "price    float64\n",
       "dtype: object"
      ]
     },
     "execution_count": 21,
     "metadata": {},
     "output_type": "execute_result"
    }
   ],
   "source": [
    "X1 = df.drop(columns=['price'])\n",
    "y1 = df[['price']]"
   ]
  },
  {
   "cell_type": "code",
   "execution_count": 16,
   "metadata": {},
   "outputs": [],
   "source": [
    "X1 = pd.get_dummies(X1, columns = ['state', 'fee', 'has_photo','cityname','price_type','source'], drop_first=True)"
   ]
  },
  {
   "cell_type": "code",
   "execution_count": 17,
   "metadata": {},
   "outputs": [],
   "source": [
    "X_train, X_test, y_train, y_test = train_test_split(X1, y1, test_size=0.33, random_state=1234)"
   ]
  },
  {
   "cell_type": "code",
   "execution_count": 22,
   "metadata": {},
   "outputs": [
    {
     "ename": "TypeError",
     "evalue": "'numpy.dtypes.Float64DType' object is not callable",
     "output_type": "error",
     "traceback": [
      "\u001b[1;31m---------------------------------------------------------------------------\u001b[0m",
      "\u001b[1;31mTypeError\u001b[0m                                 Traceback (most recent call last)",
      "Cell \u001b[1;32mIn[22], line 6\u001b[0m\n\u001b[0;32m      3\u001b[0m y_pred \u001b[38;5;241m=\u001b[39m LR_benchmark\u001b[38;5;241m.\u001b[39mpredict(X_test)\n\u001b[0;32m      4\u001b[0m \u001b[38;5;66;03m#accuracy = accuracy_score(y_test, y_pred)\u001b[39;00m\n\u001b[0;32m      5\u001b[0m \u001b[38;5;66;03m#print(accuracy)\u001b[39;00m\n\u001b[1;32m----> 6\u001b[0m \u001b[43my_pred\u001b[49m\u001b[38;5;241;43m.\u001b[39;49m\u001b[43mdtype\u001b[49m\u001b[43m(\u001b[49m\u001b[43m)\u001b[49m\n",
      "\u001b[1;31mTypeError\u001b[0m: 'numpy.dtypes.Float64DType' object is not callable"
     ]
    }
   ],
   "source": [
    "LR_benchmark = LinearRegression()\n",
    "LR_benchmark.fit(X_train, y_train)\n",
    "y_pred = LR_benchmark.predict(X_test)\n"
   ]
  },
  {
   "cell_type": "code",
   "execution_count": 44,
   "metadata": {},
   "outputs": [
    {
     "name": "stdout",
     "output_type": "stream",
     "text": [
      "-32269663728484.24\n",
      "2.3358003430893277e+19\n",
      "221867770.48489487\n"
     ]
    },
    {
     "ename": "AttributeError",
     "evalue": "'LinearRegression' object has no attribute 'acccuracy'",
     "output_type": "error",
     "traceback": [
      "\u001b[1;31m---------------------------------------------------------------------------\u001b[0m",
      "\u001b[1;31mAttributeError\u001b[0m                            Traceback (most recent call last)",
      "Cell \u001b[1;32mIn[44], line 9\u001b[0m\n\u001b[0;32m      6\u001b[0m \u001b[38;5;28mprint\u001b[39m(MSE)\n\u001b[0;32m      7\u001b[0m \u001b[38;5;28mprint\u001b[39m(MAE)\n\u001b[1;32m----> 9\u001b[0m \u001b[43mLR_benchmark\u001b[49m\u001b[38;5;241;43m.\u001b[39;49m\u001b[43macccuracy\u001b[49m()\n",
      "\u001b[1;31mAttributeError\u001b[0m: 'LinearRegression' object has no attribute 'acccuracy'"
     ]
    }
   ],
   "source": [
    "r2 = r2_score(y_test, y_pred)\n",
    "MSE = mean_squared_error(y_test, y_pred)\n",
    "MAE = mean_absolute_error(y_test, y_pred)\n",
    "RMSE = np.square(MSE)\n",
    "\n",
    "\n"
   ]
  },
  {
   "cell_type": "code",
   "execution_count": 43,
   "metadata": {},
   "outputs": [
    {
     "data": {
      "text/plain": [
       "Index(['bathrooms', 'bedrooms', 'pets_allowed', 'square_feet', 'latitude',\n",
       "       'longitude', 'Basketball', 'Gated', 'View', 'Dishwasher',\n",
       "       ...\n",
       "       'source_RealRentals', 'source_RentDigs.com', 'source_RentFeeder',\n",
       "       'source_RentLingo', 'source_Seattle Rentals', 'source_SpreadMyAd',\n",
       "       'source_Z57', 'source_rentbits', 'source_tenantcloud', 'source_vFlyer'],\n",
       "      dtype='object', length=3088)"
      ]
     },
     "execution_count": 43,
     "metadata": {},
     "output_type": "execute_result"
    }
   ],
   "source": [
    "X_train.columns"
   ]
  }
 ],
 "metadata": {
  "kernelspec": {
   "display_name": "Python 3",
   "language": "python",
   "name": "python3"
  },
  "language_info": {
   "codemirror_mode": {
    "name": "ipython",
    "version": 3
   },
   "file_extension": ".py",
   "mimetype": "text/x-python",
   "name": "python",
   "nbconvert_exporter": "python",
   "pygments_lexer": "ipython3",
   "version": "3.12.4"
  }
 },
 "nbformat": 4,
 "nbformat_minor": 2
}
