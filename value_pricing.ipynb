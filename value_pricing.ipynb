{
 "cells": [
  {
   "cell_type": "code",
   "execution_count": 1,
   "metadata": {},
   "outputs": [],
   "source": [
    "import pandas as pd"
   ]
  },
  {
   "cell_type": "code",
   "execution_count": 39,
   "metadata": {},
   "outputs": [],
   "source": [
    "df = pd.read_excel(\"data.xlsx\")"
   ]
  },
  {
   "cell_type": "code",
   "execution_count": 40,
   "metadata": {},
   "outputs": [],
   "source": [
    "df_copy = df.copy()"
   ]
  },
  {
   "cell_type": "code",
<<<<<<< Updated upstream
   "execution_count": 118,
=======
   "execution_count": 46,
>>>>>>> Stashed changes
   "metadata": {},
   "outputs": [
    {
     "data": {
      "text/html": [
       "<div>\n",
       "<style scoped>\n",
       "    .dataframe tbody tr th:only-of-type {\n",
       "        vertical-align: middle;\n",
       "    }\n",
       "\n",
       "    .dataframe tbody tr th {\n",
       "        vertical-align: top;\n",
       "    }\n",
       "\n",
       "    .dataframe thead th {\n",
       "        text-align: right;\n",
       "    }\n",
       "</style>\n",
       "<table border=\"1\" class=\"dataframe\">\n",
       "  <thead>\n",
       "    <tr style=\"text-align: right;\">\n",
       "      <th></th>\n",
       "      <th>id</th>\n",
       "      <th>category</th>\n",
       "      <th>title</th>\n",
       "      <th>body</th>\n",
       "      <th>amenities</th>\n",
       "      <th>bathrooms</th>\n",
       "      <th>bedrooms</th>\n",
       "      <th>currency</th>\n",
       "      <th>fee</th>\n",
       "      <th>has_photo</th>\n",
       "      <th>...</th>\n",
       "      <th>price_display</th>\n",
       "      <th>price_type</th>\n",
       "      <th>square_feet</th>\n",
       "      <th>address</th>\n",
       "      <th>cityname</th>\n",
       "      <th>state</th>\n",
       "      <th>latitude</th>\n",
       "      <th>longitude</th>\n",
       "      <th>source</th>\n",
       "      <th>time</th>\n",
       "    </tr>\n",
       "  </thead>\n",
       "  <tbody>\n",
       "    <tr>\n",
       "      <th>0</th>\n",
       "      <td>5668640009</td>\n",
       "      <td>housing/rent/apartment</td>\n",
       "      <td>One BR 507 &amp; 509 Esplanade</td>\n",
       "      <td>This unit is located at 507 &amp; 509 Esplanade, R...</td>\n",
       "      <td>NaN</td>\n",
       "      <td>1</td>\n",
       "      <td>1</td>\n",
       "      <td>USD</td>\n",
       "      <td>No</td>\n",
       "      <td>Thumbnail</td>\n",
       "      <td>...</td>\n",
       "      <td>2195</td>\n",
       "      <td>Monthly</td>\n",
       "      <td>542</td>\n",
       "      <td>507  509 Esplanade</td>\n",
       "      <td>Redondo Beach</td>\n",
       "      <td>CA</td>\n",
       "      <td>33.8520</td>\n",
       "      <td>-118.3759</td>\n",
       "      <td>RentLingo</td>\n",
       "      <td>1.577360e+09</td>\n",
       "    </tr>\n",
       "    <tr>\n",
       "      <th>1</th>\n",
       "      <td>5668639818</td>\n",
       "      <td>housing/rent/apartment</td>\n",
       "      <td>Three BR 146 Lochview Drive</td>\n",
       "      <td>This unit is located at 146 Lochview Drive, Ne...</td>\n",
       "      <td>NaN</td>\n",
       "      <td>1.5</td>\n",
       "      <td>3</td>\n",
       "      <td>USD</td>\n",
       "      <td>No</td>\n",
       "      <td>Thumbnail</td>\n",
       "      <td>...</td>\n",
       "      <td>1250</td>\n",
       "      <td>Monthly</td>\n",
       "      <td>1500</td>\n",
       "      <td>146 Lochview Dr</td>\n",
       "      <td>Newport News</td>\n",
       "      <td>VA</td>\n",
       "      <td>37.0867</td>\n",
       "      <td>-76.4941</td>\n",
       "      <td>RentLingo</td>\n",
       "      <td>1.577360e+09</td>\n",
       "    </tr>\n",
       "    <tr>\n",
       "      <th>2</th>\n",
       "      <td>5668639686</td>\n",
       "      <td>housing/rent/apartment</td>\n",
       "      <td>Three BR 3101 Morningside Drive</td>\n",
       "      <td>This unit is located at 3101 Morningside Drive...</td>\n",
       "      <td>NaN</td>\n",
       "      <td>2</td>\n",
       "      <td>3</td>\n",
       "      <td>USD</td>\n",
       "      <td>No</td>\n",
       "      <td>Thumbnail</td>\n",
       "      <td>...</td>\n",
       "      <td>1395</td>\n",
       "      <td>Monthly</td>\n",
       "      <td>1650</td>\n",
       "      <td>3101 Morningside Dr</td>\n",
       "      <td>Raleigh</td>\n",
       "      <td>NC</td>\n",
       "      <td>35.8230</td>\n",
       "      <td>-78.6438</td>\n",
       "      <td>RentLingo</td>\n",
       "      <td>1.577360e+09</td>\n",
       "    </tr>\n",
       "    <tr>\n",
       "      <th>3</th>\n",
       "      <td>5668639659</td>\n",
       "      <td>housing/rent/apartment</td>\n",
       "      <td>Two BR 209 Aegean Way</td>\n",
       "      <td>This unit is located at 209 Aegean Way, Vacavi...</td>\n",
       "      <td>NaN</td>\n",
       "      <td>1</td>\n",
       "      <td>2</td>\n",
       "      <td>USD</td>\n",
       "      <td>No</td>\n",
       "      <td>Thumbnail</td>\n",
       "      <td>...</td>\n",
       "      <td>1600</td>\n",
       "      <td>Monthly</td>\n",
       "      <td>820</td>\n",
       "      <td>209 Aegean Way</td>\n",
       "      <td>Vacaville</td>\n",
       "      <td>CA</td>\n",
       "      <td>38.3622</td>\n",
       "      <td>-121.9712</td>\n",
       "      <td>RentLingo</td>\n",
       "      <td>1.577360e+09</td>\n",
       "    </tr>\n",
       "    <tr>\n",
       "      <th>4</th>\n",
       "      <td>5668639374</td>\n",
       "      <td>housing/rent/apartment</td>\n",
       "      <td>One BR 4805 Marquette NE</td>\n",
       "      <td>This unit is located at 4805 Marquette NE, Alb...</td>\n",
       "      <td>NaN</td>\n",
       "      <td>1</td>\n",
       "      <td>1</td>\n",
       "      <td>USD</td>\n",
       "      <td>No</td>\n",
       "      <td>Thumbnail</td>\n",
       "      <td>...</td>\n",
       "      <td>975</td>\n",
       "      <td>Monthly</td>\n",
       "      <td>624</td>\n",
       "      <td>4805 Marquette NE</td>\n",
       "      <td>Albuquerque</td>\n",
       "      <td>NM</td>\n",
       "      <td>35.1038</td>\n",
       "      <td>-106.6110</td>\n",
       "      <td>RentLingo</td>\n",
       "      <td>1.577360e+09</td>\n",
       "    </tr>\n",
       "  </tbody>\n",
       "</table>\n",
       "<p>5 rows × 22 columns</p>\n",
       "</div>"
      ],
      "text/plain": [
       "           id                category                            title  \\\n",
       "0  5668640009  housing/rent/apartment       One BR 507 & 509 Esplanade   \n",
       "1  5668639818  housing/rent/apartment      Three BR 146 Lochview Drive   \n",
       "2  5668639686  housing/rent/apartment  Three BR 3101 Morningside Drive   \n",
       "3  5668639659  housing/rent/apartment            Two BR 209 Aegean Way   \n",
       "4  5668639374  housing/rent/apartment         One BR 4805 Marquette NE   \n",
       "\n",
       "                                                body amenities bathrooms  \\\n",
       "0  This unit is located at 507 & 509 Esplanade, R...       NaN         1   \n",
       "1  This unit is located at 146 Lochview Drive, Ne...       NaN       1.5   \n",
       "2  This unit is located at 3101 Morningside Drive...       NaN         2   \n",
       "3  This unit is located at 209 Aegean Way, Vacavi...       NaN         1   \n",
       "4  This unit is located at 4805 Marquette NE, Alb...       NaN         1   \n",
       "\n",
       "  bedrooms currency fee  has_photo  ... price_display  price_type square_feet  \\\n",
       "0        1      USD  No  Thumbnail  ...          2195     Monthly         542   \n",
       "1        3      USD  No  Thumbnail  ...          1250     Monthly        1500   \n",
       "2        3      USD  No  Thumbnail  ...          1395     Monthly        1650   \n",
       "3        2      USD  No  Thumbnail  ...          1600     Monthly         820   \n",
       "4        1      USD  No  Thumbnail  ...           975     Monthly         624   \n",
       "\n",
       "               address       cityname state latitude longitude     source  \\\n",
       "0   507  509 Esplanade  Redondo Beach    CA  33.8520 -118.3759  RentLingo   \n",
       "1      146 Lochview Dr   Newport News    VA  37.0867  -76.4941  RentLingo   \n",
       "2  3101 Morningside Dr        Raleigh    NC  35.8230  -78.6438  RentLingo   \n",
       "3       209 Aegean Way      Vacaville    CA  38.3622 -121.9712  RentLingo   \n",
       "4    4805 Marquette NE    Albuquerque    NM  35.1038 -106.6110  RentLingo   \n",
       "\n",
       "           time  \n",
       "0  1.577360e+09  \n",
       "1  1.577360e+09  \n",
       "2  1.577360e+09  \n",
       "3  1.577360e+09  \n",
       "4  1.577360e+09  \n",
       "\n",
       "[5 rows x 22 columns]"
      ]
     },
<<<<<<< Updated upstream
     "execution_count": 118,
=======
     "execution_count": 46,
>>>>>>> Stashed changes
     "metadata": {},
     "output_type": "execute_result"
    }
   ],
   "source": [
    "df = df_copy.copy()\n",
    "df.head()"
   ]
  },
  {
   "cell_type": "code",
<<<<<<< Updated upstream
   "execution_count": 119,
=======
   "execution_count": 47,
>>>>>>> Stashed changes
   "metadata": {},
   "outputs": [
    {
     "name": "stdout",
     "output_type": "stream",
     "text": [
      "<class 'pandas.core.frame.DataFrame'>\n",
      "RangeIndex: 99826 entries, 0 to 99825\n",
      "Data columns (total 22 columns):\n",
      " #   Column         Non-Null Count  Dtype  \n",
      "---  ------         --------------  -----  \n",
      " 0   id             99826 non-null  object \n",
      " 1   category       99826 non-null  object \n",
      " 2   title          99826 non-null  object \n",
      " 3   body           99812 non-null  object \n",
      " 4   amenities      83749 non-null  object \n",
      " 5   bathrooms      99760 non-null  object \n",
      " 6   bedrooms       99699 non-null  object \n",
      " 7   currency       99822 non-null  object \n",
      " 8   fee            99823 non-null  object \n",
      " 9   has_photo      99823 non-null  object \n",
      " 10  pets_allowed   39192 non-null  object \n",
      " 11  price          99821 non-null  float64\n",
      " 12  price_display  99820 non-null  object \n",
      " 13  price_type     99823 non-null  object \n",
      " 14  square_feet    99823 non-null  object \n",
      " 15  address        7946 non-null   object \n",
      " 16  cityname       99521 non-null  object \n",
      " 17  state          99521 non-null  object \n",
      " 18  latitude       99797 non-null  float64\n",
      " 19  longitude      99795 non-null  float64\n",
      " 20  source         99820 non-null  object \n",
      " 21  time           99820 non-null  float64\n",
      "dtypes: float64(4), object(18)\n",
      "memory usage: 16.8+ MB\n"
     ]
    }
   ],
   "source": [
    "df.info()"
   ]
  },
  {
   "cell_type": "code",
<<<<<<< Updated upstream
   "execution_count": 120,
=======
   "execution_count": 48,
>>>>>>> Stashed changes
   "metadata": {},
   "outputs": [],
   "source": [
    "df = df.drop(columns=[\"id\",\"category\",\"title\",\"body\",\"time\",\"address\",\"currency\",\"price_display\",\"price_type\"])"
   ]
  },
  {
   "cell_type": "code",
<<<<<<< Updated upstream
   "execution_count": 121,
=======
   "execution_count": 49,
>>>>>>> Stashed changes
   "metadata": {},
   "outputs": [],
   "source": [
    "df['amenities'] =  df['amenities'].fillna(\"No amenities\")\n",
    "test = set()\n",
    "for value in df['amenities'].unique():\n",
    "    temp = value.split(\",\")\n",
    "    for var in temp:\n",
    "        test.add(var)\n",
    "\n",
    "for column in test:\n",
<<<<<<< Updated upstream
    "    df[column] = df['amenities'].apply(lambda x: 1 if column in x else 0)\n"
=======
    "    df[column] = df['amenities'].apply(lambda x: 1 if column in x else 0)\n",
    "\n",
    "df = df.drop()\n"
>>>>>>> Stashed changes
   ]
  },
  {
   "cell_type": "code",
<<<<<<< Updated upstream
   "execution_count": 122,
=======
   "execution_count": 50,
>>>>>>> Stashed changes
   "metadata": {},
   "outputs": [
    {
     "data": {
      "text/plain": [
       "0"
      ]
     },
<<<<<<< Updated upstream
     "execution_count": 122,
=======
     "execution_count": 50,
>>>>>>> Stashed changes
     "metadata": {},
     "output_type": "execute_result"
    }
   ],
   "source": [
    "df['pets_allowed'] = df['pets_allowed'].fillna(\"No\")\n",
    "df['pets_allowed'].isna().sum()"
   ]
  },
  {
   "cell_type": "code",
<<<<<<< Updated upstream
   "execution_count": 123,
=======
   "execution_count": 51,
>>>>>>> Stashed changes
   "metadata": {},
   "outputs": [],
   "source": [
    "df = df.dropna()"
   ]
  },
  {
   "cell_type": "code",
<<<<<<< Updated upstream
   "execution_count": 124,
   "metadata": {},
   "outputs": [],
   "source": [
    "for column in test:\n",
    "    df[column] = df['amenities'].apply(lambda x: 1 if column in x else 0)"
   ]
  },
  {
   "cell_type": "code",
   "execution_count": 129,
=======
   "execution_count": 52,
>>>>>>> Stashed changes
   "metadata": {},
   "outputs": [],
   "source": [
    "df = df[df['bathrooms']!=\"Thumbnail\"]\n",
    "df = df[df['bedrooms']!=\"Thumbnail\"]\n",
    "df = df[df['fee'].isin([\"Yes\", \"No\"])]\n",
    "df['has_photo'] = df['has_photo'].replace({\"Thumbnail\":\"No\"})\n",
    "df['pets_allowed'] = df['pets_allowed'].apply(lambda x: 1 if \"Cats\" in x or \"Dogs\" in x else 0)"
   ]
  },
  {
   "cell_type": "code",
<<<<<<< Updated upstream
   "execution_count": 128,
   "metadata": {},
   "outputs": [
    {
     "data": {
      "text/plain": [
       "price_type\n",
       "Monthly    99332\n",
       "Weekly         3\n",
       "Name: count, dtype: int64"
      ]
     },
     "execution_count": 128,
     "metadata": {},
     "output_type": "execute_result"
    }
   ],
   "source": []
=======
   "execution_count": 53,
   "metadata": {},
   "outputs": [
    {
     "name": "stdout",
     "output_type": "stream",
     "text": [
      "<class 'pandas.core.frame.DataFrame'>\n",
      "Index: 99335 entries, 0 to 99825\n",
      "Data columns (total 44 columns):\n",
      " #   Column              Non-Null Count  Dtype  \n",
      "---  ------              --------------  -----  \n",
      " 0   amenities           99335 non-null  object \n",
      " 1   bathrooms           99335 non-null  object \n",
      " 2   bedrooms            99335 non-null  object \n",
      " 3   fee                 99335 non-null  object \n",
      " 4   has_photo           99335 non-null  object \n",
      " 5   pets_allowed        99335 non-null  int64  \n",
      " 6   price               99335 non-null  float64\n",
      " 7   price_type          99335 non-null  object \n",
      " 8   square_feet         99335 non-null  object \n",
      " 9   cityname            99335 non-null  object \n",
      " 10  state               99335 non-null  object \n",
      " 11  latitude            99335 non-null  float64\n",
      " 12  longitude           99335 non-null  float64\n",
      " 13  source              99335 non-null  object \n",
      " 14  Basketball          99335 non-null  int64  \n",
      " 15  Gated               99335 non-null  int64  \n",
      " 16  No                  99335 non-null  int64  \n",
      " 17  View                99335 non-null  int64  \n",
      " 18  Dishwasher          99335 non-null  int64  \n",
      " 19  Cable or Satellite  99335 non-null  int64  \n",
      " 20  Playground          99335 non-null  int64  \n",
      " 21  Pool                99335 non-null  int64  \n",
      " 22  USD                 99335 non-null  int64  \n",
      " 23  Tennis              99335 non-null  int64  \n",
      " 24  Patio/Deck          99335 non-null  int64  \n",
      " 25  Fireplace           99335 non-null  int64  \n",
      " 26  Internet Access     99335 non-null  int64  \n",
      " 27  Doorman             99335 non-null  int64  \n",
      " 28  TV                  99335 non-null  int64  \n",
      " 29  Garbage Disposal    99335 non-null  int64  \n",
      " 30  Parking             99335 non-null  int64  \n",
      " 31  Golf                99335 non-null  int64  \n",
      " 32  Wood Floors         99335 non-null  int64  \n",
      " 33  No amenities        99335 non-null  int64  \n",
      " 34  Gym                 99335 non-null  int64  \n",
      " 35  Refrigerator        99335 non-null  int64  \n",
      " 36  Alarm               99335 non-null  int64  \n",
      " 37  Washer Dryer        99335 non-null  int64  \n",
      " 38  Luxury              99335 non-null  int64  \n",
      " 39  AC                  99335 non-null  int64  \n",
      " 40  Hot Tub             99335 non-null  int64  \n",
      " 41  Elevator            99335 non-null  int64  \n",
      " 42  Storage             99335 non-null  int64  \n",
      " 43  Clubhouse           99335 non-null  int64  \n",
      "dtypes: float64(3), int64(31), object(10)\n",
      "memory usage: 34.1+ MB\n"
     ]
    }
   ],
   "source": [
    "df.info()"
   ]
>>>>>>> Stashed changes
  }
 ],
 "metadata": {
  "kernelspec": {
   "display_name": "Python 3",
   "language": "python",
   "name": "python3"
  },
  "language_info": {
   "codemirror_mode": {
    "name": "ipython",
    "version": 3
   },
   "file_extension": ".py",
   "mimetype": "text/x-python",
   "name": "python",
   "nbconvert_exporter": "python",
   "pygments_lexer": "ipython3",
   "version": "3.12.4"
  }
 },
 "nbformat": 4,
 "nbformat_minor": 2
}
